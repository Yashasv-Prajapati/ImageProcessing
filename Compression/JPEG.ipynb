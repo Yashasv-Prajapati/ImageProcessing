{
 "cells": [
  {
   "cell_type": "code",
   "execution_count": null,
   "metadata": {},
   "outputs": [],
   "source": [
    "# Put colored Images in colored folder\n",
    "# Put grayscale Images in images folder\n",
    "# JPEG_graphs contains the graphs\n",
    "# JPEG_analysis contains the before and after images\n",
    "# JPEG contains the textfiles with the encoded data"
   ]
  },
  {
   "cell_type": "code",
   "execution_count": null,
   "metadata": {},
   "outputs": [],
   "source": [
    "# importing modules\n",
    "import numpy as np\n",
    "import matplotlib.pyplot as plt\n",
    "import cv2 as cv\n",
    "import math\n",
    "import os\n",
    "import json"
   ]
  },
  {
   "attachments": {},
   "cell_type": "markdown",
   "metadata": {},
   "source": [
    "Analysis Functions"
   ]
  },
  {
   "cell_type": "code",
   "execution_count": null,
   "metadata": {},
   "outputs": [],
   "source": [
    "def getPSNR(original, modified):\n",
    "    if(len(original.shape)==3):\n",
    "        # Convert the image to RGB for saving\n",
    "        original = cv.cvtColor(original, cv.COLOR_YCR_CB2BGR)\n",
    "    \n",
    "    if(len(modified.shape)==3):\n",
    "        # Convert the image to RGB for saving\n",
    "        modified = modified.astype('uint8')\n",
    "        modified = cv.cvtColor(modified, cv.COLOR_YCR_CB2BGR)\n",
    "        \n",
    "    mse = np.mean((original - modified) ** 2)\n",
    "    if(mse == 0):  # MSE is zero means no noise is present in the signal .\n",
    "                 \n",
    "        return -1\n",
    "    \n",
    "    max_pixel = 255.0\n",
    "\n",
    "    psnr = 20 * math.log10(max_pixel / math.sqrt(mse))\n",
    "    return psnr"
   ]
  },
  {
   "cell_type": "code",
   "execution_count": null,
   "metadata": {},
   "outputs": [],
   "source": [
    "# calculating RMSE\n",
    "def CalculateRMSE(originalImage, reconstructedImage):\n",
    "    if(len(originalImage.shape)==3):\n",
    "        # Convert the image to RGB for saving\n",
    "        originalImage = cv.cvtColor(originalImage, cv.COLOR_YCR_CB2BGR)\n",
    "    \n",
    "    if(len(reconstructedImage.shape)==3):\n",
    "        # Convert the image to RGB for saving\n",
    "        reconstructedImage = reconstructedImage.astype('uint8')\n",
    "        reconstructedImage = cv.cvtColor(reconstructedImage, cv.COLOR_YCR_CB2BGR)\n",
    "        \n",
    "    rmse = math.sqrt(np.mean((originalImage - reconstructedImage) ** 2))\n",
    "    return rmse"
   ]
  },
  {
   "cell_type": "code",
   "execution_count": null,
   "metadata": {},
   "outputs": [],
   "source": [
    "def CalculateCompressionRatio(img, encodedSequence, blockSize):\n",
    "    # bits in originalImage/bits in encodedSequence\n",
    "    rows, cols = img.shape[0], img.shape[1]    \n",
    "    # calculating bits in original image\n",
    "    if(len(img.shape)==3):\n",
    "        originalBits = rows*cols*3\n",
    "    else:\n",
    "        originalBits = rows*cols\n",
    "    compressedBits = 0\n",
    "    \n",
    "    if(blockSize==-1):\n",
    "        compressedBits = len(encodedSequence)\n",
    "        return originalBits/compressedBits\n",
    "    \n",
    "    for i in encodedSequence:\n",
    "        compressedBits += len(i)\n",
    "    \n",
    "    return originalBits/compressedBits"
   ]
  },
  {
   "cell_type": "code",
   "execution_count": null,
   "metadata": {},
   "outputs": [],
   "source": [
    "def ResizeQMatrix(QMatrix,blockSize):\n",
    "    QMatrix = np.float32(QMatrix)\n",
    "    QMatrix = cv.resize(QMatrix, (blockSize, blockSize), interpolation = cv.INTER_AREA)\n",
    "    QMatrix = np.int32(QMatrix)\n",
    "    return QMatrix"
   ]
  },
  {
   "cell_type": "code",
   "execution_count": null,
   "metadata": {},
   "outputs": [],
   "source": [
    "def fixImageDimensions(img, blockSize):\n",
    "    rows, cols = img.shape[0], img.shape[1]\n",
    "\n",
    "    if(len(img.shape)==3):\n",
    "        b,g,r = cv.split(img)\n",
    "        if(rows%blockSize != 0):\n",
    "            newRows = ((rows//blockSize)+1)*blockSize\n",
    "            r = np.pad(img, ((0, newRows-rows), (0, 0)), mode='constant')\n",
    "            g = np.pad(img, ((0, newRows-rows), (0, 0)), mode='constant')\n",
    "            b = np.pad(img, ((0, newRows-rows), (0, 0)), mode='constant')\n",
    "   \n",
    "        if(cols%blockSize != 0):\n",
    "            newCols = ((cols//blockSize)+1)*blockSize\n",
    "            r = np.pad(img, ((0,0), (0, newCols-cols)), mode='constant')\n",
    "            g = np.pad(img, ((0,0), (0, newCols-cols)), mode='constant')\n",
    "            b = np.pad(img, ((0,0), (0, newCols-cols)), mode='constant')\n",
    "\n",
    "        img = cv.merge((b,g,r))\n",
    "\n",
    "    else:\n",
    "        if(rows%blockSize != 0):\n",
    "            newRows = ((rows//blockSize)+1)*blockSize\n",
    "            \n",
    "            img = np.pad(img, ((0, newRows-rows), (0, 0)), mode='constant')\n",
    "            \n",
    "\n",
    "        if(cols%blockSize != 0):\n",
    "            newCols = ((cols//blockSize)+1)*blockSize\n",
    "            img = np.pad(img, ((0,0), (0, newCols-cols)), mode='constant')\n",
    "    \n",
    "    return img"
   ]
  },
  {
   "cell_type": "code",
   "execution_count": null,
   "metadata": {},
   "outputs": [],
   "source": [
    "# steps for jpeg compression\n",
    "# 1. convert image to YUV\n",
    "# 2. downsample Cb and Cr\n",
    "# 3. do img = img-128, to each channel\n",
    "# 4. apply DCT to Y\n",
    "# 5. quantize Y\n",
    "# 6. do encoding on the values obtained\n",
    "\n",
    "\n",
    "# Getting back the compressed image from encoded values\n",
    "# 0. do decoding on the encoded values\n",
    "# 1. dequantize Y\n",
    "# 2. apply inverse DCT to Y\n",
    "# 3. upsample Cb and Cr\n",
    "# 4. convert image back to RGB\n"
   ]
  },
  {
   "attachments": {},
   "cell_type": "markdown",
   "metadata": {},
   "source": [
    "Compress"
   ]
  },
  {
   "attachments": {},
   "cell_type": "markdown",
   "metadata": {},
   "source": [
    "Helper Functions\n"
   ]
  },
  {
   "cell_type": "code",
   "execution_count": null,
   "metadata": {},
   "outputs": [],
   "source": [
    "# function that performs dct on an image\n",
    "def dct(img):\n",
    "    \n",
    "    # performing dct on image\n",
    "    if(len(img.shape)==3):\n",
    "\n",
    "        r,g,b=cv.split(img)\n",
    "        r = r.astype('float32')\n",
    "        g = g.astype('float32')\n",
    "        b = b.astype('float32')\n",
    "        r = cv.dct(r)\n",
    "        g = cv.dct(g)\n",
    "        b = cv.dct(b)\n",
    "        r = r.astype('int32')\n",
    "        g = g.astype('int32')\n",
    "        b = b.astype('int32')\n",
    "        newImg = cv.merge((r,g,b))\n",
    "        newImg = newImg.astype('int32')\n",
    "\n",
    "    else:\n",
    "        imf = img.astype('float32')\n",
    "        \n",
    "        newImg =  cv.dct(imf)\n",
    "        newImg = newImg.astype('int32')\n",
    "    return newImg\n",
    "\n"
   ]
  },
  {
   "cell_type": "code",
   "execution_count": null,
   "metadata": {},
   "outputs": [],
   "source": [
    "# img = img - 128 function\n",
    "def ShiftImage(img):\n",
    "    img = img.astype('int32')\n",
    "    img = img - 128\n",
    "    return img\n"
   ]
  },
  {
   "cell_type": "code",
   "execution_count": null,
   "metadata": {},
   "outputs": [],
   "source": [
    "def quantizeImg(img, QMatrix):\n",
    "    # quantizing image\n",
    "    if(len(img.shape)==3):\n",
    "        r,g,b = cv.split(img)\n",
    "        r = np.divide(r,QMatrix)\n",
    "        g = np.divide(g,QMatrix)\n",
    "        b = np.divide(b,QMatrix)\n",
    "        img = cv.merge((r,g,b))\n",
    "        return img\n",
    "    else:\n",
    "        img  = np.divide(img, QMatrix)\n",
    "        img = img.astype('int32')\n",
    "        return img\n",
    "    "
   ]
  },
  {
   "cell_type": "code",
   "execution_count": null,
   "metadata": {},
   "outputs": [],
   "source": [
    "def fillDecodeArray(rows, cols, blockSize, img, encoded, coefficientNum):\n",
    "\n",
    "    # encoded is a list of encoded blocks -> list of lists\n",
    "    for i in range(0, rows, blockSize):\n",
    "        for j in range(0, cols, blockSize):\n",
    "            # applying zigzag scan to each block\n",
    "            encoded.append(zigzagScan(img[i:i+blockSize, j:j+blockSize], blockSize, coefficientNum))\n",
    "    \n",
    "    \n",
    "    return encoded"
   ]
  },
  {
   "attachments": {},
   "cell_type": "markdown",
   "metadata": {},
   "source": [
    "Compression Functions"
   ]
  },
  {
   "cell_type": "code",
   "execution_count": null,
   "metadata": {},
   "outputs": [],
   "source": [
    "\n",
    "# main function \n",
    "def Compress(n, img):\n",
    "    rows, cols = img.shape[0], img.shape[1]\n",
    "\n",
    "    # shift image by 128\n",
    "    img = ShiftImage(img)\n",
    "\n",
    "    # now we have the shifted image, so now we can break the image into nxn and apply DCT to it\n",
    "    for i in range(0, rows, n): # start from 0 to rows and take the step size of n\n",
    "        for j in range(0, cols, n): # start from 0 to cols and take the step size of n\n",
    "            # applying dct to each block\n",
    "            img[i:i+n, j:j+n] = dct(img[i:i+n, j:j+n])\n",
    "    \n",
    "    # now we have the image with DCT applied to it, so now we can quantize it\n",
    "    # again break the image into 8x8 blocks and apply quantization to it\n",
    "    for i in range(0,rows, n):\n",
    "        for j in range(0,cols, n):\n",
    "            # applying quantization to each block\n",
    "            img[i:i+n, j:j+n] = quantizeImg(img[i:i+n, j:j+n], QMatrix)\n",
    "    \n",
    "    return img"
   ]
  },
  {
   "attachments": {},
   "cell_type": "markdown",
   "metadata": {},
   "source": [
    "Encoding Functions\n"
   ]
  },
  {
   "cell_type": "code",
   "execution_count": null,
   "metadata": {},
   "outputs": [],
   "source": [
    "def zigzagScan(img, n, coeffNum):\n",
    "\n",
    "    # encoded = []\n",
    "    encoded = np.array([])\n",
    "    for i in range(n):\n",
    "        if i % 2 == 0:\n",
    "            for j in range(n):\n",
    "                encoded = np.append(encoded, img[i][j])\n",
    "        else:\n",
    "            for j in range(n - 1, -1, -1):\n",
    "                encoded = np.append(encoded, img[i][j])\n",
    "                # encoded.append(img[i][j])\n",
    "    \n",
    "    numberOfPixels = n**2\n",
    "    if(coeffNum==-1):\n",
    "        # now we remove the redundant coefficients/zeros at the end\n",
    "        while(len(encoded)>0):\n",
    "            if(encoded[-1]==0):\n",
    "                encoded = encoded[:-1]\n",
    "            else:\n",
    "                break\n",
    "    elif(coeffNum<=n*n):\n",
    "        encoded[coeffNum:numberOfPixels-1] =  0\n",
    "        # now we remove the redundant coefficients/zeros at the end\n",
    "        while(len(encoded)>0):\n",
    "            if(encoded[-1]==0):\n",
    "                encoded = encoded[:-1]\n",
    "            else:\n",
    "                break\n",
    "    else:\n",
    "        print(\"Wrong Number of Coefficients\")\n",
    "        pass\n",
    "\n",
    "    return encoded\n"
   ]
  },
  {
   "cell_type": "code",
   "execution_count": null,
   "metadata": {},
   "outputs": [],
   "source": [
    "def JPEG_encoder(img, blockSize, coefficientNum, imagefileName):\n",
    "    img = Compress(blockSize, img)\n",
    "    \n",
    "\n",
    "    rows, cols = img.shape[0], img.shape[1]\n",
    "    # now we have the quantized image, so now we can do encoding on it\n",
    "    # we can use zigzag scan to do encoding\n",
    "    #for every nxn block, we will do zigzag scan\n",
    "    # encoded = np.array([])\n",
    "    encoded = [] # list of encoded blocks -> list of lists\n",
    "    \n",
    "    if(len(img.shape)==3): # color image\n",
    "        r,g,b = cv.split(img)\n",
    "\n",
    "        # fill the encoded array with r encoded values, g, and then b encoded values\n",
    "        encoded = fillDecodeArray(rows, cols, blockSize, r, encoded, coefficientNum)\n",
    "        encoded = fillDecodeArray(rows, cols, blockSize, g, encoded, coefficientNum)\n",
    "        encoded = fillDecodeArray(rows, cols, blockSize, b, encoded, coefficientNum)\n",
    "\n",
    "    else: # grayscale image\n",
    "        \n",
    "        for i in range(0, rows, blockSize):\n",
    "            for j in range(0, cols, blockSize):\n",
    "                # applying zigzag scan to each block\n",
    "                encoded.append(zigzagScan(img[i:i+blockSize, j:j+blockSize], blockSize, coefficientNum))\n",
    "\n",
    "\n",
    "    # convert the encoded list to numpy array    \n",
    "    encoded = np.array(encoded, dtype=object)\n",
    "\n",
    "    # save the encoded values to a csv file\n",
    "    saveDestination = 'JPEG/encoded_'+imagefileName+'.csv'\n",
    "    np.savetxt(saveDestination,encoded, delimiter=',', fmt='%s')\n",
    "\n",
    "    return saveDestination, encoded\n"
   ]
  },
  {
   "attachments": {},
   "cell_type": "markdown",
   "metadata": {},
   "source": [
    "DeCompressing"
   ]
  },
  {
   "attachments": {},
   "cell_type": "markdown",
   "metadata": {},
   "source": [
    "Helper Functions"
   ]
  },
  {
   "cell_type": "code",
   "execution_count": null,
   "metadata": {},
   "outputs": [],
   "source": [
    "def idct(img):\n",
    "\n",
    "    if(len(img.shape)==3):\n",
    "\n",
    "        r,g,b=cv.split(img)\n",
    "        r = r.astype('float32')\n",
    "        g = g.astype('float32')\n",
    "        b = b.astype('float32')\n",
    "        r = cv.idct(r)\n",
    "        g = cv.idct(g)\n",
    "        b = cv.idct(b)\n",
    "        r = r.astype('int32')\n",
    "        g = g.astype('int32')\n",
    "        b = b.astype('int32')\n",
    "\n",
    "        newImg = cv.merge((r,g,b))\n",
    "        return newImg\n",
    "    else:\n",
    "        imf = img.astype('float32')\n",
    "        imf =  cv.idct(imf)\n",
    "        return imf.astype('int32')\n",
    "    "
   ]
  },
  {
   "cell_type": "code",
   "execution_count": null,
   "metadata": {},
   "outputs": [],
   "source": [
    "def dequantizeImg(img, QMatrix):\n",
    "    # dequantizing image\n",
    "\n",
    "    if(len(img.shape)==3):\n",
    "        r,g,b = cv.split(img)\n",
    "        r = np.multiply(r,QMatrix)\n",
    "        g = np.multiply(g,QMatrix)\n",
    "        b = np.multiply(b,QMatrix)\n",
    "        img = cv.merge((r,g,b))\n",
    "    else:\n",
    "        img = np.multiply(img, QMatrix)\n",
    "    \n",
    "    return img"
   ]
  },
  {
   "cell_type": "code",
   "execution_count": null,
   "metadata": {},
   "outputs": [],
   "source": [
    "def ShiftPositive(img):\n",
    "    img = img.astype('int32')\n",
    "    img = img + 128\n",
    "    return img"
   ]
  },
  {
   "cell_type": "code",
   "execution_count": null,
   "metadata": {},
   "outputs": [],
   "source": [
    "def reconstructBlockFromEncoded(rows, cols, blockSize, encodedArray, offset):\n",
    "    reconstructedImageFromEncoded = np.zeros((rows, cols), dtype='int32')\n",
    "    index = 0\n",
    "    for i in range(0, rows, blockSize):\n",
    "        for j in range(0, cols, blockSize):\n",
    "            # applying zigzag scan to each block\n",
    "            # we find the start index for from where we should start reading the values in the encodedArray, because the encodedArray contains all the values of all the blocks concateanated\n",
    "            reconstructedImageFromEncoded[i:i+blockSize, j:j+blockSize] = ZigZacPutBack(encodedArray[offset+index], blockSize)\n",
    "            index+=1\n",
    "            \n",
    "    return reconstructedImageFromEncoded"
   ]
  },
  {
   "attachments": {},
   "cell_type": "markdown",
   "metadata": {},
   "source": [
    "Decompression Functions\n"
   ]
  },
  {
   "cell_type": "code",
   "execution_count": null,
   "metadata": {},
   "outputs": [],
   "source": [
    "def Decompress(n, img):\n",
    "    rows, cols = img.shape[0], img.shape[1]\n",
    "\n",
    "    # first we dequantize the image by breaking the image into several nxn blocks\n",
    "    for i in range(0,rows, n):\n",
    "        for j in range(0,cols, n):\n",
    "            # applying dequantization to each block\n",
    "            img[i:i+n, j:j+n] = dequantizeImg(img[i:i+n, j:j+n], QMatrix)\n",
    "    \n",
    "    # now we apply idct on each block\n",
    "    for i in range(0, rows, n):\n",
    "        for j in range(0, cols, n):\n",
    "            # applying idct to each block\n",
    "            img[i:i+n, j:j+n] = idct(img[i:i+n, j:j+n])\n",
    "    \n",
    "    # now we shift the image back to positive values\n",
    "    img = ShiftPositive(img)\n",
    "\n",
    "    return img"
   ]
  },
  {
   "attachments": {},
   "cell_type": "markdown",
   "metadata": {},
   "source": [
    "Decoding Functions\n"
   ]
  },
  {
   "cell_type": "code",
   "execution_count": null,
   "metadata": {},
   "outputs": [],
   "source": [
    "def ZigZacPutBack(encodedArray, blockSize):\n",
    "    imgSegment = np.zeros((blockSize, blockSize), dtype='int32')\n",
    "    # print(encodedArray)\n",
    "    size = len(encodedArray)\n",
    "    correctEncoded = np.zeros((blockSize**2), dtype='int32')\n",
    "    correctEncoded[:size] = encodedArray[:]\n",
    "    encodedArray = correctEncoded\n",
    "    \n",
    "    index = 0\n",
    "    for i in range(blockSize):\n",
    "        \n",
    "        if(i%2==0):\n",
    "            for j in range(blockSize):\n",
    "                imgSegment[i][j] = encodedArray[index]\n",
    "                index+=1\n",
    "        else:\n",
    "            for j in range(blockSize-1, -1, -1):\n",
    "                imgSegment[i][j] = encodedArray[index]\n",
    "                index+=1\n",
    "                \n",
    "    return imgSegment\n"
   ]
  },
  {
   "cell_type": "code",
   "execution_count": null,
   "metadata": {},
   "outputs": [],
   "source": [
    "def JPEG_decoder(encodedArray,img, blockSize):\n",
    "    \n",
    "    # reconstructing the image\n",
    "    rows, cols = img.shape[0], img.shape[1]\n",
    "    # this is to get the total number of blocks in 1 layer so that we can encode the array into these many lists\n",
    "    blocksIn1Layer = rows*cols//(blockSize**2)\n",
    "    \n",
    "    # we have the encodedArray and block size, so we can easily reconstruct the image matrix\n",
    "    if(len(img.shape)==3): # color image\n",
    "        \n",
    "        r,g,b = cv.split(img)\n",
    "        \n",
    "        offset = 0\n",
    "        r = reconstructBlockFromEncoded(rows, cols, blockSize, encodedArray, offset)\n",
    "        offset += blocksIn1Layer\n",
    "        g = reconstructBlockFromEncoded(rows, cols, blockSize, encodedArray, offset)\n",
    "        offset += blocksIn1Layer\n",
    "        b = reconstructBlockFromEncoded(rows, cols, blockSize, encodedArray, offset)\n",
    "\n",
    "        reconstructedImage = cv.merge((r,g,b))\n",
    "\n",
    "    else: # grayscale image\n",
    "        reconstructedImage = np.zeros((rows, cols), dtype='int32')\n",
    "        index = 0\n",
    "        for i in range(0, rows, blockSize):\n",
    "            for j in range(0, cols, blockSize):\n",
    "                # applying zigzag scan to each block\n",
    "                reconstructedImage[i:i+blockSize, j:j+blockSize] = ZigZacPutBack(encodedArray[index], blockSize)\n",
    "    \n",
    "    RMSE = CalculateRMSE(img, reconstructedImage)\n",
    "    PSNR = getPSNR(img, reconstructedImage)\n",
    "    CompressionRatio = CalculateCompressionRatio(img, encodedArray, blockSize)\n",
    "    reconstructedImage = Decompress(blockSize, reconstructedImage)\n",
    "    \n",
    "    return reconstructedImage, RMSE, PSNR, CompressionRatio\n",
    "\n"
   ]
  },
  {
   "attachments": {},
   "cell_type": "markdown",
   "metadata": {},
   "source": [
    "CODE TO RECONSTRUCT THE IMAGE\n"
   ]
  },
  {
   "attachments": {},
   "cell_type": "markdown",
   "metadata": {},
   "source": [
    "Quantization Matrices"
   ]
  },
  {
   "cell_type": "code",
   "execution_count": null,
   "metadata": {},
   "outputs": [],
   "source": [
    "# QMatrix for 8x8 blocks\n",
    "QMatrix = np.array([[16, 11, 10, 16, 24, 40, 51, 61], \n",
    "                    [12, 12, 14, 19, 26, 58, 60, 55],\n",
    "                    [14, 13, 16, 24, 40, 57, 69, 56],\n",
    "                    [14, 17, 22, 29, 51, 87, 80, 62],\n",
    "                    [18, 22, 37, 56, 68, 109, 103, 77],\n",
    "                    [24, 35, 55, 64, 81, 104, 113, 92],\n",
    "                    [49, 64, 78, 87, 103, 121, 120, 101],\n",
    "                    [72, 92, 95, 98, 112, 100, 103, 99\n",
    "                     ]])\n"
   ]
  },
  {
   "cell_type": "code",
   "execution_count": null,
   "metadata": {},
   "outputs": [],
   "source": [
    "image_folderName = 'images/'\n",
    "image_filename = 'lena.tif' # example, change the image you wish to compress and decompress here\n",
    "img = cv.imread(image_folderName+image_filename, cv.IMREAD_GRAYSCALE) #reading grayscale images currently\n",
    "\n",
    "if(len(img.shape)==3):\n",
    "    img = cv.cvtColor(img, cv.COLOR_BGR2YCR_CB)\n",
    "\n",
    "blockSize = 8\n",
    "QMatrix = ResizeQMatrix(QMatrix,blockSize)\n",
    "\n",
    "NumberOfCoefficientsToSend = -1 # -1 means send all the coefficients\n",
    "\n",
    "img = fixImageDimensions(img, blockSize)\n",
    "saveDestination, encoded = JPEG_encoder(img, blockSize, NumberOfCoefficientsToSend, image_filename)\n",
    "reconstructedImage,RMSE ,PSNR,CompressionRatio = JPEG_decoder(encoded, img, blockSize)\n",
    "plt.imshow(img,cmap='gray')"
   ]
  },
  {
   "cell_type": "code",
   "execution_count": null,
   "metadata": {},
   "outputs": [],
   "source": [
    "image_folderName = 'colored/'\n",
    "image_filename = 'kodim01.png' # example, change the image you wish to compress and decompress here\n",
    "img = cv.imread(image_folderName+image_filename, cv.IMREAD_COLOR) #reading grayscale images currently\n",
    "\n",
    "if(len(img.shape)==3):\n",
    "    img = cv.cvtColor(img, cv.COLOR_BGR2YCR_CB)\n",
    "\n",
    "blockSize = 8\n",
    "QMatrix = ResizeQMatrix(QMatrix,blockSize)\n",
    "\n",
    "NumberOfCoefficientsToSend = -1 # -1 means send all the coefficients\n",
    "\n",
    "img = fixImageDimensions(img, blockSize)\n",
    "saveDestination, encoded = JPEG_encoder(img, blockSize, NumberOfCoefficientsToSend, image_filename)\n",
    "reconstructedImage,RMSE ,PSNR,CompressionRatio = JPEG_decoder(encoded, img, blockSize)\n",
    "if(len(img.shape)==3):\n",
    "        # Convert the image to RGB for saving\n",
    "        img = cv.cvtColor(img, cv.COLOR_YCR_CB2RGB)\n",
    "        # convert the decompressed image to RGB for showing\n",
    "        reconstructedImage = reconstructedImage.astype('uint8')\n",
    "        reconstructedImage = cv.cvtColor(reconstructedImage, cv.COLOR_YCR_CB2RGB)\n",
    "\n",
    "plt.figure(figsize=[16,5])\n",
    "plt.suptitle('JPEG Compression')\n",
    "plt.subplot(1,2,1);plt.imshow(img);plt.title('Original Image')\n",
    "plt.subplot(1,2,2);plt.imshow(reconstructedImage);plt.title(f'Reconstructed Image (RMSE={RMSE:.2f}, PSNR={PSNR:.2f}, Compression Ratio={CompressionRatio:.2f})')"
   ]
  }
 ],
 "metadata": {
  "kernelspec": {
   "display_name": "dipp",
   "language": "python",
   "name": "python3"
  },
  "language_info": {
   "codemirror_mode": {
    "name": "ipython",
    "version": 3
   },
   "file_extension": ".py",
   "mimetype": "text/x-python",
   "name": "python",
   "nbconvert_exporter": "python",
   "pygments_lexer": "ipython3",
   "version": "3.8.16"
  },
  "orig_nbformat": 4,
  "vscode": {
   "interpreter": {
    "hash": "669232831d53ba9b0f23aca1609d1ede69f8caf0d619100b7d9b8f786b988492"
   }
  }
 },
 "nbformat": 4,
 "nbformat_minor": 2
}
